{
 "cells": [
  {
   "cell_type": "markdown",
   "metadata": {},
   "source": [
    "# 1/14/2025 \n",
    "# CERN Mass Prediction w/ Random Tree Regressor\n",
    "## By David Macpherson\n",
    "\n"
   ]
  },
  {
   "cell_type": "code",
   "execution_count": 2,
   "metadata": {},
   "outputs": [],
   "source": [
    "import numpy\n",
    "import pandas\n",
    "import matplotlib.pyplot as plt\n",
    "from sklearn.ensemble import RandomForestRegressor\n",
    "from sklearn.model_selection import train_test_split, GridSearchCV, cross_val_score\n",
    "# load data\n",
    "data = pandas.read_csv('./dielectron.csv')\n"
   ]
  },
  {
   "cell_type": "code",
   "execution_count": 3,
   "metadata": {},
   "outputs": [
    {
     "data": {
      "text/html": [
       "<div>\n",
       "<style scoped>\n",
       "    .dataframe tbody tr th:only-of-type {\n",
       "        vertical-align: middle;\n",
       "    }\n",
       "\n",
       "    .dataframe tbody tr th {\n",
       "        vertical-align: top;\n",
       "    }\n",
       "\n",
       "    .dataframe thead th {\n",
       "        text-align: right;\n",
       "    }\n",
       "</style>\n",
       "<table border=\"1\" class=\"dataframe\">\n",
       "  <thead>\n",
       "    <tr style=\"text-align: right;\">\n",
       "      <th></th>\n",
       "      <th>Run</th>\n",
       "      <th>Event</th>\n",
       "      <th>E1</th>\n",
       "      <th>px1</th>\n",
       "      <th>py1</th>\n",
       "      <th>pz1</th>\n",
       "      <th>pt1</th>\n",
       "      <th>eta1</th>\n",
       "      <th>phi1</th>\n",
       "      <th>Q1</th>\n",
       "      <th>E2</th>\n",
       "      <th>px2</th>\n",
       "      <th>py2</th>\n",
       "      <th>pz2</th>\n",
       "      <th>pt2</th>\n",
       "      <th>eta2</th>\n",
       "      <th>phi2</th>\n",
       "      <th>Q2</th>\n",
       "      <th>M</th>\n",
       "    </tr>\n",
       "  </thead>\n",
       "  <tbody>\n",
       "    <tr>\n",
       "      <th>count</th>\n",
       "      <td>100000.000000</td>\n",
       "      <td>1.000000e+05</td>\n",
       "      <td>100000.000000</td>\n",
       "      <td>100000.000000</td>\n",
       "      <td>100000.000000</td>\n",
       "      <td>100000.000000</td>\n",
       "      <td>100000.000000</td>\n",
       "      <td>100000.000000</td>\n",
       "      <td>100000.000000</td>\n",
       "      <td>100000.00000</td>\n",
       "      <td>100000.000000</td>\n",
       "      <td>100000.000000</td>\n",
       "      <td>100000.000000</td>\n",
       "      <td>100000.000000</td>\n",
       "      <td>100000.000000</td>\n",
       "      <td>100000.000000</td>\n",
       "      <td>100000.000000</td>\n",
       "      <td>100000.000000</td>\n",
       "      <td>99915.000000</td>\n",
       "    </tr>\n",
       "    <tr>\n",
       "      <th>mean</th>\n",
       "      <td>147935.327230</td>\n",
       "      <td>4.957212e+08</td>\n",
       "      <td>36.436466</td>\n",
       "      <td>0.135897</td>\n",
       "      <td>0.182291</td>\n",
       "      <td>-1.508037</td>\n",
       "      <td>14.412167</td>\n",
       "      <td>-0.064095</td>\n",
       "      <td>0.021614</td>\n",
       "      <td>-0.00548</td>\n",
       "      <td>44.002901</td>\n",
       "      <td>-0.003984</td>\n",
       "      <td>0.124654</td>\n",
       "      <td>-1.590559</td>\n",
       "      <td>13.802036</td>\n",
       "      <td>-0.072830</td>\n",
       "      <td>0.021385</td>\n",
       "      <td>-0.004220</td>\n",
       "      <td>30.019521</td>\n",
       "    </tr>\n",
       "    <tr>\n",
       "      <th>std</th>\n",
       "      <td>920.306064</td>\n",
       "      <td>4.037703e+08</td>\n",
       "      <td>41.216203</td>\n",
       "      <td>13.404976</td>\n",
       "      <td>13.470281</td>\n",
       "      <td>51.603652</td>\n",
       "      <td>12.388740</td>\n",
       "      <td>1.462137</td>\n",
       "      <td>1.799562</td>\n",
       "      <td>0.99999</td>\n",
       "      <td>46.751132</td>\n",
       "      <td>13.127404</td>\n",
       "      <td>13.168867</td>\n",
       "      <td>61.430040</td>\n",
       "      <td>12.460549</td>\n",
       "      <td>1.738033</td>\n",
       "      <td>1.817031</td>\n",
       "      <td>0.999996</td>\n",
       "      <td>25.255847</td>\n",
       "    </tr>\n",
       "    <tr>\n",
       "      <th>min</th>\n",
       "      <td>146511.000000</td>\n",
       "      <td>6.414000e+03</td>\n",
       "      <td>0.377928</td>\n",
       "      <td>-250.587000</td>\n",
       "      <td>-126.079000</td>\n",
       "      <td>-840.987000</td>\n",
       "      <td>0.219629</td>\n",
       "      <td>-4.165380</td>\n",
       "      <td>-3.141580</td>\n",
       "      <td>-1.00000</td>\n",
       "      <td>0.472500</td>\n",
       "      <td>-233.730000</td>\n",
       "      <td>-145.651000</td>\n",
       "      <td>-655.396000</td>\n",
       "      <td>0.026651</td>\n",
       "      <td>-7.064790</td>\n",
       "      <td>-3.141580</td>\n",
       "      <td>-1.000000</td>\n",
       "      <td>2.000080</td>\n",
       "    </tr>\n",
       "    <tr>\n",
       "      <th>25%</th>\n",
       "      <td>147114.000000</td>\n",
       "      <td>2.023970e+08</td>\n",
       "      <td>8.458595</td>\n",
       "      <td>-5.233675</td>\n",
       "      <td>-5.276248</td>\n",
       "      <td>-15.859825</td>\n",
       "      <td>3.771172</td>\n",
       "      <td>-1.283883</td>\n",
       "      <td>-1.527030</td>\n",
       "      <td>-1.00000</td>\n",
       "      <td>11.055725</td>\n",
       "      <td>-4.794770</td>\n",
       "      <td>-4.605965</td>\n",
       "      <td>-22.036950</td>\n",
       "      <td>3.738103</td>\n",
       "      <td>-1.892287</td>\n",
       "      <td>-1.556925</td>\n",
       "      <td>-1.000000</td>\n",
       "      <td>12.445200</td>\n",
       "    </tr>\n",
       "    <tr>\n",
       "      <th>50%</th>\n",
       "      <td>147929.000000</td>\n",
       "      <td>3.902759e+08</td>\n",
       "      <td>21.717000</td>\n",
       "      <td>0.141339</td>\n",
       "      <td>0.099092</td>\n",
       "      <td>-0.312987</td>\n",
       "      <td>12.967800</td>\n",
       "      <td>-0.061178</td>\n",
       "      <td>0.034324</td>\n",
       "      <td>-1.00000</td>\n",
       "      <td>25.264600</td>\n",
       "      <td>-0.035638</td>\n",
       "      <td>0.083665</td>\n",
       "      <td>-0.690244</td>\n",
       "      <td>11.690950</td>\n",
       "      <td>-0.135911</td>\n",
       "      <td>0.026986</td>\n",
       "      <td>-1.000000</td>\n",
       "      <td>21.283100</td>\n",
       "    </tr>\n",
       "    <tr>\n",
       "      <th>75%</th>\n",
       "      <td>149011.000000</td>\n",
       "      <td>6.338891e+08</td>\n",
       "      <td>50.003350</td>\n",
       "      <td>5.714560</td>\n",
       "      <td>5.648087</td>\n",
       "      <td>13.212650</td>\n",
       "      <td>20.018925</td>\n",
       "      <td>1.144408</td>\n",
       "      <td>1.562355</td>\n",
       "      <td>1.00000</td>\n",
       "      <td>66.925525</td>\n",
       "      <td>4.819540</td>\n",
       "      <td>5.061860</td>\n",
       "      <td>19.005825</td>\n",
       "      <td>19.596400</td>\n",
       "      <td>1.768253</td>\n",
       "      <td>1.596737</td>\n",
       "      <td>1.000000</td>\n",
       "      <td>39.025050</td>\n",
       "    </tr>\n",
       "    <tr>\n",
       "      <th>max</th>\n",
       "      <td>149182.000000</td>\n",
       "      <td>1.791247e+09</td>\n",
       "      <td>850.602000</td>\n",
       "      <td>134.539000</td>\n",
       "      <td>147.467000</td>\n",
       "      <td>760.096000</td>\n",
       "      <td>265.578000</td>\n",
       "      <td>2.622970</td>\n",
       "      <td>3.141420</td>\n",
       "      <td>1.00000</td>\n",
       "      <td>948.375000</td>\n",
       "      <td>227.330000</td>\n",
       "      <td>166.283000</td>\n",
       "      <td>935.558000</td>\n",
       "      <td>281.654000</td>\n",
       "      <td>3.060550</td>\n",
       "      <td>3.141290</td>\n",
       "      <td>1.000000</td>\n",
       "      <td>109.999000</td>\n",
       "    </tr>\n",
       "  </tbody>\n",
       "</table>\n",
       "</div>"
      ],
      "text/plain": [
       "                 Run         Event             E1           px1   \\\n",
       "count  100000.000000  1.000000e+05  100000.000000  100000.000000   \n",
       "mean   147935.327230  4.957212e+08      36.436466       0.135897   \n",
       "std       920.306064  4.037703e+08      41.216203      13.404976   \n",
       "min    146511.000000  6.414000e+03       0.377928    -250.587000   \n",
       "25%    147114.000000  2.023970e+08       8.458595      -5.233675   \n",
       "50%    147929.000000  3.902759e+08      21.717000       0.141339   \n",
       "75%    149011.000000  6.338891e+08      50.003350       5.714560   \n",
       "max    149182.000000  1.791247e+09     850.602000     134.539000   \n",
       "\n",
       "                 py1            pz1            pt1           eta1  \\\n",
       "count  100000.000000  100000.000000  100000.000000  100000.000000   \n",
       "mean        0.182291      -1.508037      14.412167      -0.064095   \n",
       "std        13.470281      51.603652      12.388740       1.462137   \n",
       "min      -126.079000    -840.987000       0.219629      -4.165380   \n",
       "25%        -5.276248     -15.859825       3.771172      -1.283883   \n",
       "50%         0.099092      -0.312987      12.967800      -0.061178   \n",
       "75%         5.648087      13.212650      20.018925       1.144408   \n",
       "max       147.467000     760.096000     265.578000       2.622970   \n",
       "\n",
       "                phi1            Q1             E2            px2  \\\n",
       "count  100000.000000  100000.00000  100000.000000  100000.000000   \n",
       "mean        0.021614      -0.00548      44.002901      -0.003984   \n",
       "std         1.799562       0.99999      46.751132      13.127404   \n",
       "min        -3.141580      -1.00000       0.472500    -233.730000   \n",
       "25%        -1.527030      -1.00000      11.055725      -4.794770   \n",
       "50%         0.034324      -1.00000      25.264600      -0.035638   \n",
       "75%         1.562355       1.00000      66.925525       4.819540   \n",
       "max         3.141420       1.00000     948.375000     227.330000   \n",
       "\n",
       "                 py2            pz2            pt2           eta2  \\\n",
       "count  100000.000000  100000.000000  100000.000000  100000.000000   \n",
       "mean        0.124654      -1.590559      13.802036      -0.072830   \n",
       "std        13.168867      61.430040      12.460549       1.738033   \n",
       "min      -145.651000    -655.396000       0.026651      -7.064790   \n",
       "25%        -4.605965     -22.036950       3.738103      -1.892287   \n",
       "50%         0.083665      -0.690244      11.690950      -0.135911   \n",
       "75%         5.061860      19.005825      19.596400       1.768253   \n",
       "max       166.283000     935.558000     281.654000       3.060550   \n",
       "\n",
       "                phi2             Q2             M  \n",
       "count  100000.000000  100000.000000  99915.000000  \n",
       "mean        0.021385      -0.004220     30.019521  \n",
       "std         1.817031       0.999996     25.255847  \n",
       "min        -3.141580      -1.000000      2.000080  \n",
       "25%        -1.556925      -1.000000     12.445200  \n",
       "50%         0.026986      -1.000000     21.283100  \n",
       "75%         1.596737       1.000000     39.025050  \n",
       "max         3.141290       1.000000    109.999000  "
      ]
     },
     "execution_count": 3,
     "metadata": {},
     "output_type": "execute_result"
    }
   ],
   "source": [
    "\n",
    "data.describe()"
   ]
  },
  {
   "cell_type": "code",
   "execution_count": 4,
   "metadata": {},
   "outputs": [
    {
     "data": {
      "image/png": "[encoded data removed]",
      "text/plain": [
       "<Figure size 1000x600 with 1 Axes>"
      ]
     },
     "metadata": {},
     "output_type": "display_data"
    }
   ],
   "source": [
    "plt.figure(figsize=(10, 6))\n",
    "plt.hist(data['M'], bins=100, range=(0,140))\n",
    "plt.title(\"Distribution of Mass across Electrons\")\n",
    "plt.xlabel(\"Mass\")\n",
    "plt.ylabel(\"Frequency\")\n",
    "plt.show()"
   ]
  },
  {
   "cell_type": "code",
   "execution_count": 5,
   "metadata": {},
   "outputs": [
    {
     "name": "stderr",
     "output_type": "stream",
     "text": [
      "/tmp/ipykernel_66438/1097537509.py:2: FutureWarning: A value is trying to be set on a copy of a DataFrame or Series through chained assignment using an inplace method.\n",
      "The behavior will change in pandas 3.0. This inplace method will never work because the intermediate object on which we are setting values always behaves as a copy.\n",
      "\n",
      "For example, when doing 'df[col].method(value, inplace=True)', try using 'df.method({col: value}, inplace=True)' or df[col] = df[col].method(value) instead, to perform the operation inplace on the original object.\n",
      "\n",
      "\n",
      "  data[\"M\"].fillna(data['M'].mean(), inplace=True)\n"
     ]
    }
   ],
   "source": [
    "## fill in censored data with mean\n",
    "data[\"M\"].fillna(data['M'].mean(), inplace=True)\n",
    "## drop duplicates\n",
    "data = data.drop_duplicates()"
   ]
  },
  {
   "cell_type": "code",
   "execution_count": 6,
   "metadata": {},
   "outputs": [],
   "source": [
    "# Feature and target separation\n",
    "X = data.drop(columns='M',axis=1)\n",
    "y = data['M']\n",
    "\n",
    "# Training and Testing data\n",
    "X_train,X_test,y_train,y_test = train_test_split(X, y, test_size=0.2, random_state=42)"
   ]
  },
  {
   "cell_type": "code",
   "execution_count": null,
   "metadata": {},
   "outputs": [
    {
     "name": "stderr",
     "output_type": "stream",
     "text": [
      "/tmp/ipykernel_66438/3292143453.py:20: UserWarning: No artists with labels found to put in legend.  Note that artists whose label start with an underscore are ignored when legend() is called with no argument.\n",
      "  plt.legend()\n"
     ]
    },
    {
     "name": "stdout",
     "output_type": "stream",
     "text": [
      "Did depth  1\n"
     ]
    },
    {
     "name": "stderr",
     "output_type": "stream",
     "text": [
      "/tmp/ipykernel_66438/3292143453.py:20: UserWarning: No artists with labels found to put in legend.  Note that artists whose label start with an underscore are ignored when legend() is called with no argument.\n",
      "  plt.legend()\n"
     ]
    },
    {
     "name": "stdout",
     "output_type": "stream",
     "text": [
      "Did depth  2\n"
     ]
    },
    {
     "name": "stderr",
     "output_type": "stream",
     "text": [
      "/tmp/ipykernel_66438/3292143453.py:20: UserWarning: No artists with labels found to put in legend.  Note that artists whose label start with an underscore are ignored when legend() is called with no argument.\n",
      "  plt.legend()\n"
     ]
    },
    {
     "name": "stdout",
     "output_type": "stream",
     "text": [
      "Did depth  3\n"
     ]
    },
    {
     "name": "stderr",
     "output_type": "stream",
     "text": [
      "/tmp/ipykernel_66438/3292143453.py:20: UserWarning: No artists with labels found to put in legend.  Note that artists whose label start with an underscore are ignored when legend() is called with no argument.\n",
      "  plt.legend()\n"
     ]
    },
    {
     "name": "stdout",
     "output_type": "stream",
     "text": [
      "Did depth  4\n"
     ]
    },
    {
     "name": "stderr",
     "output_type": "stream",
     "text": [
      "/tmp/ipykernel_66438/3292143453.py:20: UserWarning: No artists with labels found to put in legend.  Note that artists whose label start with an underscore are ignored when legend() is called with no argument.\n",
      "  plt.legend()\n"
     ]
    },
    {
     "name": "stdout",
     "output_type": "stream",
     "text": [
      "Did depth  5\n"
     ]
    },
    {
     "name": "stderr",
     "output_type": "stream",
     "text": [
      "/tmp/ipykernel_66438/3292143453.py:20: UserWarning: No artists with labels found to put in legend.  Note that artists whose label start with an underscore are ignored when legend() is called with no argument.\n",
      "  plt.legend()\n"
     ]
    },
    {
     "name": "stdout",
     "output_type": "stream",
     "text": [
      "Did depth  6\n"
     ]
    }
   ],
   "source": [
    "for i in range(1,11):\n",
    "    model = RandomForestRegressor(n_estimators=i*50, max_features=\"sqrt\", max_depth=16, min_samples_split=2)\n",
    "    model.fit(X_train, y_train)\n",
    "    # Plotting\n",
    "    plt.figure(figsize=(10, 8))\n",
    "    test = model.predict(X_test)\n",
    "    plt.scatter(y_test, test, color='blue')\n",
    "\n",
    "    ## set x and y bounds to the min and max of the data\n",
    "    plt.xlim(0, data['M'].max()+15)\n",
    "    plt.ylim(0, test.max()+15)\n",
    "\n",
    "\n",
    "    ## plot line y = x on it\n",
    "    plt.plot([0, data['M'].max()+15], [0, data['M'].max()+15], color='red')\n",
    "\n",
    "    plt.xlabel('True Values')\n",
    "    plt.ylabel('Predicted Values')\n",
    "    plt.title('True vs Predicted Values (Random Forest Estimators=\"'+str(i*50)+'\")')\n",
    "    plt.legend()\n",
    "    ## put the t\n",
    "    plt.savefig(\"./fig/RandomForest_estimators\"+str(i)+\".png\")\n",
    "    print(\"Did depth \", i)\n",
    "\n",
    "\n",
    "\n"
   ]
  },
  {
   "cell_type": "code",
   "execution_count": 3,
   "metadata": {},
   "outputs": [
    {
     "name": "stdout",
     "output_type": "stream",
     "text": [
      "['MaxDepthHyperparmeterTuning.gif', 'RandomForest_depth11.png', 'RandomForest_depth14.png', 'RandomForest_estimators6.png', 'RandomForest_depth10.png', 'RandomForest_depth7.png', 'RandomForest_depth12.png', 'RandomForest_estimators5.png', 'RandomForest_estimators1.png', 'RandomForest_depth15.png', 'RandomForest_depth5.png', 'RandomForest_depth13.png', 'RandomForest_estimators2.png', 'RandomForest_depth9.png', 'RandomForest_depth8.png', 'RandomForest_depth6.png', 'RandomForest_estimators3.png', 'RandomForest_estimators4.png', 'combined.gif']\n"
     ]
    },
    {
     "name": "stderr",
     "output_type": "stream",
     "text": [
      "/tmp/ipykernel_72125/983603143.py:10: DeprecationWarning: Starting with ImageIO v3 the behavior of this function will switch to that of iio.v3.imread. To keep the current behavior (and make this warning disappear) use `import imageio.v2 as imageio` or call `imageio.v2.imread` directly.\n",
      "  images.append(imageio.imread(\"./fig/\"+filename))\n"
     ]
    }
   ],
   "source": [
    "import imageio\n",
    "import os\n",
    "\n",
    "directory_path = \"./fig\"\n",
    "file_names = os.listdir(directory_path)\n",
    "print(file_names)\n",
    "images = []\n",
    "for i in range(1,7):\n",
    "    filename = \"RandomForest_estimators\"+str(i)+\".png\"\n",
    "    images.append(imageio.imread(\"./fig/\"+filename))\n",
    "imageio.mimsave('./fig/combined.gif', images)"
   ]
  },
  {
   "cell_type": "code",
   "execution_count": null,
   "metadata": {},
   "outputs": [],
   "source": [
    "# # Perform cross-validation on the best estimator\n",
    "# cv_scores_rf = cross_val_score(model, X_train, y_train, cv=5, scoring='r2')\n",
    "\n",
    "# # Report cross-validation results\n",
    "# print(f\"Cross-Validation R² Scores (Random Forest): {cv_scores_rf}\")\n",
    "# print(f\"Mean R² Score (Random Forest): {cv_scores_rf.mean():.4f}\")\n",
    "# print(f\"Standard Deviation of R² Scores (Random Forest): {cv_scores_rf.std():.4f}\")"
   ]
  },
  {
   "cell_type": "code",
   "execution_count": null,
   "metadata": {},
   "outputs": [],
   "source": []
  },
  {
   "cell_type": "markdown",
   "metadata": {},
   "source": [
    "# Changing the Estimator Hyperparmeter\n",
    "![](./fig/EstimatorHyperparameter.gif)"
   ]
  },
  {
   "cell_type": "markdown",
   "metadata": {},
   "source": []
  },
  {
   "cell_type": "markdown",
   "metadata": {},
   "source": [
    "# Changing the Max Depth Hyperparameter\n",
    "![](./fig/MaxDepthHyperparmeterTuning.gif)"
   ]
  }
 ],
 "metadata": {
  "kernelspec": {
   "display_name": ".venv",
   "language": "python",
   "name": "python3"
  },
  "language_info": {
   "codemirror_mode": {
    "name": "ipython",
    "version": 3
   },
   "file_extension": ".py",
   "mimetype": "text/x-python",
   "name": "python",
   "nbconvert_exporter": "python",
   "pygments_lexer": "ipython3",
   "version": "3.12.7"
  }
 },
 "nbformat": 4,
 "nbformat_minor": 2
}
